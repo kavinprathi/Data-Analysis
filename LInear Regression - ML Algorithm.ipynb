{
 "cells": [
  {
   "cell_type": "code",
   "execution_count": 25,
   "id": "ebb311f0",
   "metadata": {},
   "outputs": [],
   "source": [
    "import pandas as pd\n",
    "from sklearn import datasets\n",
    "from sklearn.model_selection import train_test_split\n",
    "from matplotlib import pyplot as plt\n",
    "from sklearn import linear_model"
   ]
  },
  {
   "cell_type": "code",
   "execution_count": 26,
   "id": "d17ee45a",
   "metadata": {},
   "outputs": [],
   "source": [
    "boston = datasets.load_boston()\n"
   ]
  },
  {
   "cell_type": "code",
   "execution_count": 27,
   "id": "2bc6e711",
   "metadata": {},
   "outputs": [],
   "source": [
    "x=boston.data\n",
    "y=boston.target"
   ]
  },
  {
   "cell_type": "raw",
   "id": "bf57915d",
   "metadata": {},
   "source": [
    "print(\"x\",x)\n",
    "print(\"y\",y)"
   ]
  },
  {
   "cell_type": "code",
   "execution_count": 28,
   "id": "63d3ef0d",
   "metadata": {},
   "outputs": [
    {
     "name": "stdout",
     "output_type": "stream",
     "text": [
      "x (506, 13)\n",
      "y (506,)\n"
     ]
    }
   ],
   "source": [
    "print(\"x\",x.shape)\n",
    "print(\"y\",y.shape)"
   ]
  },
  {
   "cell_type": "code",
   "execution_count": 29,
   "id": "598b7531",
   "metadata": {},
   "outputs": [],
   "source": [
    "reg = linear_model.LinearRegression()\n"
   ]
  },
  {
   "cell_type": "code",
   "execution_count": 35,
   "id": "6417bbb4",
   "metadata": {},
   "outputs": [
    {
     "data": {
      "image/png": "[encoded data removed]",
      "text/plain": [
       "<Figure size 432x288 with 1 Axes>"
      ]
     },
     "metadata": {
      "needs_background": "light"
     },
     "output_type": "display_data"
    }
   ],
   "source": [
    "plt.scatter(x.T[0],y)\n",
    "plt.show()"
   ]
  },
  {
   "cell_type": "code",
   "execution_count": 36,
   "id": "fe7b5487",
   "metadata": {},
   "outputs": [],
   "source": [
    "x_train, x_test, y_train, y_test = train_test_split(x,y,test_size =0.3)"
   ]
  },
  {
   "cell_type": "code",
   "execution_count": 37,
   "id": "4ec471b8",
   "metadata": {
    "scrolled": true
   },
   "outputs": [
    {
     "name": "stdout",
     "output_type": "stream",
     "text": [
      "preidc [24.25004991 29.36571501 25.15727315 19.33808628 25.10232427 22.47069783\n",
      " 22.59754515 23.37044236 15.15943405 19.45110981 19.83991788 16.6491938\n",
      " 24.16483847 34.01971584 30.71915829 17.12885773 28.64314399 34.17875488\n",
      " 20.35638343 38.25295292 22.85976082  9.79001701 20.68511384 20.6674154\n",
      " 25.45744261 34.06902194 20.44233347 24.47608172 25.52323446 15.67154138\n",
      " 22.56818444  6.89827514 29.69974894 14.1162485  18.43982855 31.64230947\n",
      " 10.10931261 32.57253627 21.89877654  0.14712302 17.13073395 24.37519039\n",
      " 19.68063323 25.70370479 33.70673728 12.42221364 20.66397943 15.40473547\n",
      " 25.32095596 28.50276298 20.62528236 13.33345973 24.80572157 24.90147847\n",
      " 21.82918693 39.40785021 34.76746235 20.93662137 25.44060739 32.07451198\n",
      " 17.89219687 35.74125746 24.74318973 13.64043615 27.90638063 33.81185945\n",
      " 19.12788304 17.1624297  17.81405891 20.52156511 17.16334577 18.1517758\n",
      " 14.06969035 24.38009399 19.99389494 17.07027508 23.60260633 23.36241994\n",
      " 19.08395871 30.55192608 25.04510385 16.81984527 24.2091263  16.2733468\n",
      " 23.68043038 19.28078984 16.62804175 18.7017148  21.07400176 22.62411518\n",
      " 17.84749544 16.69794089 17.51506926 24.34822449 17.929652   12.49184027\n",
      " 23.28097304 21.22714274 17.26955017 25.93396566 21.80117637 30.29998441\n",
      " 29.39123259 41.91493297 18.70008563 30.4179668   3.44198894 13.75896383\n",
      " 34.51097855 27.20430647 22.73632247 21.50750319 17.51316765 40.08584343\n",
      " 17.99210289 20.21258501 16.02801497 23.43139813 21.44845822 22.873019\n",
      " 27.21482795 22.12085681 23.60085535 26.66051042 16.61346609 22.7188488\n",
      " 32.39814449 21.53038005 19.27722281 20.68329199 20.13275635 33.15604462\n",
      " 35.26886818 16.85273474 18.74744228 26.4243674  34.25770473 31.36768831\n",
      " 29.90687483 16.27890322 15.66838247 23.10352847 26.86161206 19.32187968\n",
      " 28.21453639  3.47366734 40.3134575  27.27869871 37.26554045 20.67425551\n",
      " 12.06234677 13.44889843]\n"
     ]
    }
   ],
   "source": [
    "model = reg.fit(x_train, y_train)\n",
    "prediction = model.predict(x_test)\n",
    "print(\"preidc\",prediction)"
   ]
  },
  {
   "cell_type": "code",
   "execution_count": 38,
   "id": "d221b180",
   "metadata": {},
   "outputs": [
    {
     "name": "stdout",
     "output_type": "stream",
     "text": [
      "r2 0.7367913980924881\n"
     ]
    }
   ],
   "source": [
    "print(\"r2\", reg.score(x,y))"
   ]
  },
  {
   "cell_type": "code",
   "execution_count": 40,
   "id": "7199a358",
   "metadata": {},
   "outputs": [
    {
     "name": "stdout",
     "output_type": "stream",
     "text": [
      "COOE [-1.16629185e-01  5.46712173e-02  2.39359844e-02  2.92947742e+00\n",
      " -1.73065004e+01  3.30991238e+00  4.97009874e-03 -1.62260495e+00\n",
      "  2.68490882e-01 -9.70274628e-03 -9.63000566e-01  5.54828208e-03\n",
      " -6.06941494e-01]\n"
     ]
    }
   ],
   "source": [
    "print(\"COOE\",reg.coef_)"
   ]
  },
  {
   "cell_type": "code",
   "execution_count": 41,
   "id": "40276dfb",
   "metadata": {},
   "outputs": [
    {
     "name": "stdout",
     "output_type": "stream",
     "text": [
      "intercept 41.39784310967512\n"
     ]
    }
   ],
   "source": [
    "print(\"intercept\", reg.intercept_)"
   ]
  },
  {
   "cell_type": "code",
   "execution_count": null,
   "id": "51947197",
   "metadata": {},
   "outputs": [],
   "source": []
  }
 ],
 "metadata": {
  "kernelspec": {
   "display_name": "Python 3",
   "language": "python",
   "name": "python3"
  },
  "language_info": {
   "codemirror_mode": {
    "name": "ipython",
    "version": 3
   },
   "file_extension": ".py",
   "mimetype": "text/x-python",
   "name": "python",
   "nbconvert_exporter": "python",
   "pygments_lexer": "ipython3",
   "version": "3.8.8"
  }
 },
 "nbformat": 4,
 "nbformat_minor": 5
}
